{
 "cells": [
  {
   "cell_type": "code",
   "execution_count": 2,
   "metadata": {},
   "outputs": [],
   "source": [
    "import imgaug.augmenters as iaa;\n",
    "import cv2\n",
    "import glob\n",
    "import os"
   ]
  },
  {
   "cell_type": "code",
   "execution_count": 8,
   "metadata": {},
   "outputs": [
    {
     "ename": "AssertionError",
     "evalue": "Expected tuple of values >-1.0, got 0.0000 and -100.0000.",
     "output_type": "error",
     "traceback": [
      "\u001b[1;31m---------------------------------------------------------------------------\u001b[0m",
      "\u001b[1;31mAssertionError\u001b[0m                            Traceback (most recent call last)",
      "Cell \u001b[1;32mIn[8], line 13\u001b[0m\n\u001b[0;32m     10\u001b[0m sometimes \u001b[38;5;241m=\u001b[39m \u001b[38;5;28;01mlambda\u001b[39;00m aug: iaa\u001b[38;5;241m.\u001b[39mSometimes(\u001b[38;5;241m0.5\u001b[39m, aug)\n\u001b[0;32m     11\u001b[0m \u001b[38;5;66;03m# Image Augmentation\u001b[39;00m\n\u001b[0;32m     12\u001b[0m augmentation \u001b[38;5;241m=\u001b[39m iaa\u001b[38;5;241m.\u001b[39mSequential([\n\u001b[1;32m---> 13\u001b[0m     sometimes(\u001b[43miaa\u001b[49m\u001b[38;5;241;43m.\u001b[39;49m\u001b[43mCrop\u001b[49m\u001b[43m(\u001b[49m\u001b[43mpercent\u001b[49m\u001b[38;5;241;43m=\u001b[39;49m\u001b[43m(\u001b[49m\u001b[38;5;241;43m0\u001b[39;49m\u001b[43m,\u001b[49m\u001b[43m \u001b[49m\u001b[38;5;241;43m100\u001b[39;49m\u001b[43m)\u001b[49m\u001b[43m)\u001b[49m),\n\u001b[0;32m     14\u001b[0m ])\n\u001b[0;32m     16\u001b[0m augmented_images \u001b[38;5;241m=\u001b[39m augmentation(images\u001b[38;5;241m=\u001b[39mimages)\n\u001b[0;32m     18\u001b[0m \u001b[38;5;28;01mfor\u001b[39;00m img \u001b[38;5;129;01min\u001b[39;00m augmented_images: \n",
      "File \u001b[1;32mf:\\Harshit\\Harshit_Testing\\env\\Lib\\site-packages\\imgaug\\augmenters\\size.py:2585\u001b[0m, in \u001b[0;36mCrop.__init__\u001b[1;34m(self, px, percent, keep_size, sample_independently, seed, name, random_state, deterministic)\u001b[0m\n\u001b[0;32m   2582\u001b[0m px \u001b[38;5;241m=\u001b[39m recursive_negate(px)\n\u001b[0;32m   2583\u001b[0m percent \u001b[38;5;241m=\u001b[39m recursive_negate(percent)\n\u001b[1;32m-> 2585\u001b[0m \u001b[38;5;28;43msuper\u001b[39;49m\u001b[43m(\u001b[49m\u001b[43mCrop\u001b[49m\u001b[43m,\u001b[49m\u001b[43m \u001b[49m\u001b[38;5;28;43mself\u001b[39;49m\u001b[43m)\u001b[49m\u001b[38;5;241;43m.\u001b[39;49m\u001b[38;5;21;43m__init__\u001b[39;49m\u001b[43m(\u001b[49m\n\u001b[0;32m   2586\u001b[0m \u001b[43m    \u001b[49m\u001b[43mpx\u001b[49m\u001b[38;5;241;43m=\u001b[39;49m\u001b[43mpx\u001b[49m\u001b[43m,\u001b[49m\n\u001b[0;32m   2587\u001b[0m \u001b[43m    \u001b[49m\u001b[43mpercent\u001b[49m\u001b[38;5;241;43m=\u001b[39;49m\u001b[43mpercent\u001b[49m\u001b[43m,\u001b[49m\n\u001b[0;32m   2588\u001b[0m \u001b[43m    \u001b[49m\u001b[43mkeep_size\u001b[49m\u001b[38;5;241;43m=\u001b[39;49m\u001b[43mkeep_size\u001b[49m\u001b[43m,\u001b[49m\n\u001b[0;32m   2589\u001b[0m \u001b[43m    \u001b[49m\u001b[43msample_independently\u001b[49m\u001b[38;5;241;43m=\u001b[39;49m\u001b[43msample_independently\u001b[49m\u001b[43m,\u001b[49m\n\u001b[0;32m   2590\u001b[0m \u001b[43m    \u001b[49m\u001b[43mseed\u001b[49m\u001b[38;5;241;43m=\u001b[39;49m\u001b[43mseed\u001b[49m\u001b[43m,\u001b[49m\u001b[43m \u001b[49m\u001b[43mname\u001b[49m\u001b[38;5;241;43m=\u001b[39;49m\u001b[43mname\u001b[49m\u001b[43m,\u001b[49m\n\u001b[0;32m   2591\u001b[0m \u001b[43m    \u001b[49m\u001b[43mrandom_state\u001b[49m\u001b[38;5;241;43m=\u001b[39;49m\u001b[43mrandom_state\u001b[49m\u001b[43m,\u001b[49m\u001b[43m \u001b[49m\u001b[43mdeterministic\u001b[49m\u001b[38;5;241;43m=\u001b[39;49m\u001b[43mdeterministic\u001b[49m\u001b[43m)\u001b[49m\n",
      "File \u001b[1;32mf:\\Harshit\\Harshit_Testing\\env\\Lib\\site-packages\\imgaug\\augmenters\\size.py:1812\u001b[0m, in \u001b[0;36mCropAndPad.__init__\u001b[1;34m(self, px, percent, pad_mode, pad_cval, keep_size, sample_independently, seed, name, random_state, deterministic)\u001b[0m\n\u001b[0;32m   1808\u001b[0m \u001b[38;5;28;01mif\u001b[39;00m px \u001b[38;5;129;01mis\u001b[39;00m \u001b[38;5;28;01mNone\u001b[39;00m \u001b[38;5;129;01mand\u001b[39;00m percent \u001b[38;5;129;01mis\u001b[39;00m \u001b[38;5;28;01mNone\u001b[39;00m:\n\u001b[0;32m   1809\u001b[0m     percent \u001b[38;5;241m=\u001b[39m (\u001b[38;5;241m-\u001b[39m\u001b[38;5;241m0.1\u001b[39m, \u001b[38;5;241m0.1\u001b[39m)\n\u001b[0;32m   1811\u001b[0m \u001b[38;5;28mself\u001b[39m\u001b[38;5;241m.\u001b[39mmode, \u001b[38;5;28mself\u001b[39m\u001b[38;5;241m.\u001b[39mall_sides, \u001b[38;5;28mself\u001b[39m\u001b[38;5;241m.\u001b[39mtop, \u001b[38;5;28mself\u001b[39m\u001b[38;5;241m.\u001b[39mright, \u001b[38;5;28mself\u001b[39m\u001b[38;5;241m.\u001b[39mbottom, \\\n\u001b[1;32m-> 1812\u001b[0m     \u001b[38;5;28mself\u001b[39m\u001b[38;5;241m.\u001b[39mleft \u001b[38;5;241m=\u001b[39m \u001b[38;5;28;43mself\u001b[39;49m\u001b[38;5;241;43m.\u001b[39;49m\u001b[43m_handle_px_and_percent_args\u001b[49m\u001b[43m(\u001b[49m\u001b[43mpx\u001b[49m\u001b[43m,\u001b[49m\u001b[43m \u001b[49m\u001b[43mpercent\u001b[49m\u001b[43m)\u001b[49m\n\u001b[0;32m   1814\u001b[0m \u001b[38;5;28mself\u001b[39m\u001b[38;5;241m.\u001b[39mpad_mode \u001b[38;5;241m=\u001b[39m _handle_pad_mode_param(pad_mode)\n\u001b[0;32m   1815\u001b[0m \u001b[38;5;66;03m# TODO enable ALL here, like in e.g. Affine\u001b[39;00m\n",
      "File \u001b[1;32mf:\\Harshit\\Harshit_Testing\\env\\Lib\\site-packages\\imgaug\\augmenters\\size.py:1845\u001b[0m, in \u001b[0;36mCropAndPad._handle_px_and_percent_args\u001b[1;34m(cls, px, percent)\u001b[0m\n\u001b[0;32m   1843\u001b[0m \u001b[38;5;28;01melse\u001b[39;00m:  \u001b[38;5;66;03m# = elif percent is not None:\u001b[39;00m\n\u001b[0;32m   1844\u001b[0m     mode \u001b[38;5;241m=\u001b[39m \u001b[38;5;124m\"\u001b[39m\u001b[38;5;124mpercent\u001b[39m\u001b[38;5;124m\"\u001b[39m\n\u001b[1;32m-> 1845\u001b[0m     all_sides, top, right, bottom, left \u001b[38;5;241m=\u001b[39m \u001b[38;5;28;43mcls\u001b[39;49m\u001b[38;5;241;43m.\u001b[39;49m\u001b[43m_handle_percent_arg\u001b[49m\u001b[43m(\u001b[49m\n\u001b[0;32m   1846\u001b[0m \u001b[43m        \u001b[49m\u001b[43mpercent\u001b[49m\u001b[43m)\u001b[49m\n\u001b[0;32m   1847\u001b[0m \u001b[38;5;28;01mreturn\u001b[39;00m mode, all_sides, top, right, bottom, left\n",
      "File \u001b[1;32mf:\\Harshit\\Harshit_Testing\\env\\Lib\\site-packages\\imgaug\\augmenters\\size.py:1951\u001b[0m, in \u001b[0;36mCropAndPad._handle_percent_arg\u001b[1;34m(cls, percent)\u001b[0m\n\u001b[0;32m   1946\u001b[0m     \u001b[38;5;28;01mraise\u001b[39;00m \u001b[38;5;167;01mException\u001b[39;00m(\n\u001b[0;32m   1947\u001b[0m         \u001b[38;5;124m\"\u001b[39m\u001b[38;5;124mExpected int, tuple of two ints, list of ints or \u001b[39m\u001b[38;5;124m\"\u001b[39m\n\u001b[0;32m   1948\u001b[0m         \u001b[38;5;124m\"\u001b[39m\u001b[38;5;124mStochasticParameter, got type \u001b[39m\u001b[38;5;132;01m%s\u001b[39;00m\u001b[38;5;124m.\u001b[39m\u001b[38;5;124m\"\u001b[39m \u001b[38;5;241m%\u001b[39m (\u001b[38;5;28mtype\u001b[39m(p),))\n\u001b[0;32m   1950\u001b[0m \u001b[38;5;28;01mif\u001b[39;00m \u001b[38;5;28mlen\u001b[39m(percent) \u001b[38;5;241m==\u001b[39m \u001b[38;5;241m2\u001b[39m:\n\u001b[1;32m-> 1951\u001b[0m     all_sides \u001b[38;5;241m=\u001b[39m \u001b[43mhandle_param\u001b[49m\u001b[43m(\u001b[49m\u001b[43mpercent\u001b[49m\u001b[43m)\u001b[49m\n\u001b[0;32m   1952\u001b[0m \u001b[38;5;28;01melse\u001b[39;00m:  \u001b[38;5;66;03m# len == 4\u001b[39;00m\n\u001b[0;32m   1953\u001b[0m     top \u001b[38;5;241m=\u001b[39m handle_param(percent[\u001b[38;5;241m0\u001b[39m])\n",
      "File \u001b[1;32mf:\\Harshit\\Harshit_Testing\\env\\Lib\\site-packages\\imgaug\\augmenters\\size.py:1930\u001b[0m, in \u001b[0;36mCropAndPad._handle_percent_arg.<locals>.handle_param\u001b[1;34m(p)\u001b[0m\n\u001b[0;32m   1924\u001b[0m     only_numbers \u001b[38;5;241m=\u001b[39m (\n\u001b[0;32m   1925\u001b[0m         ia\u001b[38;5;241m.\u001b[39mis_single_number(p[\u001b[38;5;241m0\u001b[39m])\n\u001b[0;32m   1926\u001b[0m         \u001b[38;5;129;01mand\u001b[39;00m ia\u001b[38;5;241m.\u001b[39mis_single_number(p[\u001b[38;5;241m1\u001b[39m]))\n\u001b[0;32m   1927\u001b[0m     \u001b[38;5;28;01massert\u001b[39;00m only_numbers, (\n\u001b[0;32m   1928\u001b[0m         \u001b[38;5;124m\"\u001b[39m\u001b[38;5;124mExpected tuple of numbers, got \u001b[39m\u001b[38;5;132;01m%s\u001b[39;00m\u001b[38;5;124m and \u001b[39m\u001b[38;5;132;01m%s\u001b[39;00m\u001b[38;5;124m.\u001b[39m\u001b[38;5;124m\"\u001b[39m \u001b[38;5;241m%\u001b[39m (\n\u001b[0;32m   1929\u001b[0m             \u001b[38;5;28mtype\u001b[39m(p[\u001b[38;5;241m0\u001b[39m]), \u001b[38;5;28mtype\u001b[39m(p[\u001b[38;5;241m1\u001b[39m])))\n\u001b[1;32m-> 1930\u001b[0m     \u001b[38;5;28;01massert\u001b[39;00m p[\u001b[38;5;241m0\u001b[39m] \u001b[38;5;241m>\u001b[39m \u001b[38;5;241m-\u001b[39m\u001b[38;5;241m1.0\u001b[39m \u001b[38;5;129;01mand\u001b[39;00m p[\u001b[38;5;241m1\u001b[39m] \u001b[38;5;241m>\u001b[39m \u001b[38;5;241m-\u001b[39m\u001b[38;5;241m1.0\u001b[39m, (\n\u001b[0;32m   1931\u001b[0m         \u001b[38;5;124m\"\u001b[39m\u001b[38;5;124mExpected tuple of values >-1.0, got \u001b[39m\u001b[38;5;132;01m%.4f\u001b[39;00m\u001b[38;5;124m and \u001b[39m\u001b[38;5;124m\"\u001b[39m\n\u001b[0;32m   1932\u001b[0m         \u001b[38;5;124m\"\u001b[39m\u001b[38;5;132;01m%.4f\u001b[39;00m\u001b[38;5;124m.\u001b[39m\u001b[38;5;124m\"\u001b[39m \u001b[38;5;241m%\u001b[39m (p[\u001b[38;5;241m0\u001b[39m], p[\u001b[38;5;241m1\u001b[39m]))\n\u001b[0;32m   1933\u001b[0m     \u001b[38;5;28;01mreturn\u001b[39;00m iap\u001b[38;5;241m.\u001b[39mUniform(p[\u001b[38;5;241m0\u001b[39m], p[\u001b[38;5;241m1\u001b[39m])\n\u001b[0;32m   1934\u001b[0m \u001b[38;5;28;01mif\u001b[39;00m \u001b[38;5;28misinstance\u001b[39m(p, \u001b[38;5;28mlist\u001b[39m):\n",
      "\u001b[1;31mAssertionError\u001b[0m: Expected tuple of values >-1.0, got 0.0000 and -100.0000."
     ]
    }
   ],
   "source": [
    "# load dataset\n",
    "images_path = glob.glob(\"aug_test/images/*.jpg\")\n",
    "images = []\n",
    "for img_path in images_path:\n",
    "    img = cv2.imread(img_path)\n",
    "    images.append(img);\n",
    "    # cv2.imshow(\"image\", img)\n",
    "    # cv2.waitKey(0)\n",
    "    \n",
    "sometimes = lambda aug: iaa.Sometimes(0.5, aug)\n",
    "# Image Augmentation\n",
    "augmentation = iaa.Sequential([\n",
    "    sometimes(iaa.Crop(percent=(0, 0))),\n",
    "])\n",
    "\n",
    "augmented_images = augmentation(images=images)\n",
    "\n",
    "for img in augmented_images: \n",
    "    cv2.imshow(\"Image\", img);\n",
    "    cv2.waitKey(0);"
   ]
  },
  {
   "cell_type": "code",
   "execution_count": null,
   "metadata": {},
   "outputs": [],
   "source": []
  }
 ],
 "metadata": {
  "kernelspec": {
   "display_name": "env",
   "language": "python",
   "name": "python3"
  },
  "language_info": {
   "codemirror_mode": {
    "name": "ipython",
    "version": 3
   },
   "file_extension": ".py",
   "mimetype": "text/x-python",
   "name": "python",
   "nbconvert_exporter": "python",
   "pygments_lexer": "ipython3",
   "version": "3.11.7"
  }
 },
 "nbformat": 4,
 "nbformat_minor": 2
}
