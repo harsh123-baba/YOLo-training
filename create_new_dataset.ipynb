{
 "cells": [
  {
   "cell_type": "code",
   "execution_count": 2,
   "metadata": {},
   "outputs": [],
   "source": [
    "import os\n",
    "import glob\n",
    "import cv2\n"
   ]
  },
  {
   "cell_type": "code",
   "execution_count": 4,
   "metadata": {},
   "outputs": [],
   "source": [
    "input_image_path = \"F:\\Harshit\\Harshit_Testing\\datasets_actual\\VisDrone\\VisDrone2019-DET-train\\images\"\n",
    "input_label_path = \"F:\\Harshit\\Harshit_Testing\\datasets_actual\\VisDrone\\VisDrone2019-DET-train\\labels\"\n",
    "output_label_path = \"F:\\Harshit\\Harshit_Testing\\datasets_actual\\VisDrone\\sample_label\"\n",
    "output_image_path = \"F:\\Harshit\\Harshit_Testing\\datasets_actual\\VisDrone\\sample_image\""
   ]
  },
  {
   "cell_type": "code",
   "execution_count": null,
   "metadata": {},
   "outputs": [],
   "source": [
    "images = "
   ]
  }
 ],
 "metadata": {
  "kernelspec": {
   "display_name": "env",
   "language": "python",
   "name": "python3"
  },
  "language_info": {
   "codemirror_mode": {
    "name": "ipython",
    "version": 3
   },
   "file_extension": ".py",
   "mimetype": "text/x-python",
   "name": "python",
   "nbconvert_exporter": "python",
   "pygments_lexer": "ipython3",
   "version": "3.11.7"
  }
 },
 "nbformat": 4,
 "nbformat_minor": 2
}
